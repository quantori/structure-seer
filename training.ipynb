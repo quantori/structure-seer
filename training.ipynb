{
 "cells": [
  {
   "cell_type": "markdown",
   "id": "f50e6ec0-8045-41f9-83cb-71f0a8667bff",
   "metadata": {},
   "source": [
    "#### Training Procedure"
   ]
  },
  {
   "cell_type": "code",
   "execution_count": null,
   "id": "15570de2-b00c-4ae6-9660-a9420a7a97f5",
   "metadata": {},
   "outputs": [],
   "source": [
    "!pip install -r requirements.txt"
   ]
  },
  {
   "cell_type": "code",
   "execution_count": 1,
   "id": "1190a1e4-a059-48c9-a2ac-a00bb7fb6f96",
   "metadata": {},
   "outputs": [],
   "source": [
    "import torch\n",
    "\"\"\"\n",
    "Training configuration\n",
    "\"\"\"\n",
    "\n",
    "MODEL = \"STRUCTURE SEER\" # STRUCTURE SEER or TRANSFORMER\n",
    "TRAINING_DATASET = \"example_datasets/demo_compounds_qm9.sdf\"\n",
    "VALIDATION_DATASET = \"example_datasets/demo_compounds_qm9.sdf\"\n",
    "\n",
    "GOOGLE_COLAB = False\n",
    "DEVICE = torch.device('cpu')\n",
    "BATCH_SIZE = 32\n",
    "EPOCHS = 200\n",
    "LR = 6e-4\n",
    "SAVE = False\n",
    "SAVE_PATH = \"./training_log\"\n"
   ]
  },
  {
   "cell_type": "code",
   "execution_count": 2,
   "id": "8f1e7fdc-f441-4cdb-9867-7de00c2dc38e",
   "metadata": {},
   "outputs": [],
   "source": [
    "if GOOGLE_COLAB:\n",
    "    from google.colab import drive\n",
    "    drive.mount('/content/drive')\n",
    "    %cd /content/drive/MyDrive/structure_seer"
   ]
  },
  {
   "cell_type": "code",
   "execution_count": null,
   "id": "96861d49-8194-4bba-8ba8-60673982c2fb",
   "metadata": {},
   "outputs": [],
   "source": [
    "import torch\n",
    "from utils import MolecularDataset\n",
    "from models import GCNEncoder, TEncoder, Decoder\n",
    "from training import train\n",
    "\n",
    "print(\"Loading Training dataset ...\")\n",
    "training_dataset = MolecularDataset(TRAINING_DATASET)\n",
    "print(\"Loading Validation dataset ...\")\n",
    "validation_dataset = MolecularDataset(VALIDATION_DATASET)\n",
    "\n",
    "training_loader = torch.utils.data.DataLoader(\n",
    "    training_dataset,\n",
    "    batch_size=BATCH_SIZE,\n",
    "    shuffle=True,\n",
    ")\n",
    "validation_loader = torch.utils.data.DataLoader(\n",
    "    validation_dataset,\n",
    "    batch_size=BATCH_SIZE,\n",
    "    shuffle=False,\n",
    "    drop_last=True,\n",
    ")\n",
    "\n",
    "\n",
    "if MODEL == \"STRUCTURE SEER\":\n",
    "    encoder = GCNEncoder(device=DEVICE)\n",
    "elif MODEL == \"TRANSFORMER\":\n",
    "    encoder = TEncoder()\n",
    "else:\n",
    "    raise ValueError(\"The type of the model is not supported.\")\n",
    "    \n",
    "decoder = Decoder()\n",
    "\n",
    "print(f\"Training for {EPOCHS} on device {DEVICE}\")\n",
    "\n",
    "train(\n",
    "    encoder=encoder,\n",
    "    decoder=decoder,\n",
    "    epochs=EPOCHS,\n",
    "    training_loader=training_loader,\n",
    "    validation_loader=validation_loader,\n",
    "    learning_rate=LR,\n",
    "    device=DEVICE,\n",
    "    save=SAVE,\n",
    "    save_path=SAVE_PATH,\n",
    ")"
   ]
  },
  {
   "cell_type": "code",
   "execution_count": null,
   "id": "312fe983-6249-43b8-a9cf-34c98e3d80f8",
   "metadata": {},
   "outputs": [],
   "source": []
  }
 ],
 "metadata": {
  "kernelspec": {
   "display_name": "Python 3 (ipykernel)",
   "language": "python",
   "name": "python3"
  },
  "language_info": {
   "codemirror_mode": {
    "name": "ipython",
    "version": 3
   },
   "file_extension": ".py",
   "mimetype": "text/x-python",
   "name": "python",
   "nbconvert_exporter": "python",
   "pygments_lexer": "ipython3",
   "version": "3.10.10"
  }
 },
 "nbformat": 4,
 "nbformat_minor": 5
}
