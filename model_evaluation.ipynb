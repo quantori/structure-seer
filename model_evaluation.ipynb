{
 "cells": [
  {
   "cell_type": "markdown",
   "id": "8c8b023f-ee5b-4667-a8b8-9d48ca6f64d4",
   "metadata": {},
   "source": [
    "#### Model evaluation"
   ]
  },
  {
   "cell_type": "code",
   "execution_count": 4,
   "id": "a96f77e0-0a62-4381-a435-ba83131d77e9",
   "metadata": {},
   "outputs": [
    {
     "name": "stdout",
     "output_type": "stream",
     "text": [
      "Requirement already satisfied: matplotlib==3.7.2 in /Users/denissapegin/miniconda3/lib/python3.10/site-packages (from -r requirements.txt (line 1)) (3.7.2)\n",
      "Requirement already satisfied: networkx[default] in /Users/denissapegin/miniconda3/lib/python3.10/site-packages (from -r requirements.txt (line 2)) (3.1)\n",
      "Requirement already satisfied: PubChemPy==1.0.4 in /Users/denissapegin/miniconda3/lib/python3.10/site-packages (from -r requirements.txt (line 3)) (1.0.4)\n",
      "Requirement already satisfied: rdkit==2023.3.1 in /Users/denissapegin/miniconda3/lib/python3.10/site-packages (from -r requirements.txt (line 4)) (2023.3.1)\n",
      "Requirement already satisfied: torch==2.0.1 in /Users/denissapegin/miniconda3/lib/python3.10/site-packages (from -r requirements.txt (line 5)) (2.0.1)\n",
      "Requirement already satisfied: tqdm in /Users/denissapegin/miniconda3/lib/python3.10/site-packages (from -r requirements.txt (line 6)) (4.65.0)\n",
      "Requirement already satisfied: packaging>=20.0 in /Users/denissapegin/miniconda3/lib/python3.10/site-packages (from matplotlib==3.7.2->-r requirements.txt (line 1)) (23.0)\n",
      "Requirement already satisfied: kiwisolver>=1.0.1 in /Users/denissapegin/miniconda3/lib/python3.10/site-packages (from matplotlib==3.7.2->-r requirements.txt (line 1)) (1.4.4)\n",
      "Requirement already satisfied: pillow>=6.2.0 in /Users/denissapegin/miniconda3/lib/python3.10/site-packages (from matplotlib==3.7.2->-r requirements.txt (line 1)) (9.5.0)\n",
      "Requirement already satisfied: contourpy>=1.0.1 in /Users/denissapegin/miniconda3/lib/python3.10/site-packages (from matplotlib==3.7.2->-r requirements.txt (line 1)) (1.0.7)\n",
      "Requirement already satisfied: numpy>=1.20 in /Users/denissapegin/miniconda3/lib/python3.10/site-packages (from matplotlib==3.7.2->-r requirements.txt (line 1)) (1.24.3)\n",
      "Requirement already satisfied: pyparsing<3.1,>=2.3.1 in /Users/denissapegin/miniconda3/lib/python3.10/site-packages (from matplotlib==3.7.2->-r requirements.txt (line 1)) (3.0.9)\n",
      "Requirement already satisfied: cycler>=0.10 in /Users/denissapegin/miniconda3/lib/python3.10/site-packages (from matplotlib==3.7.2->-r requirements.txt (line 1)) (0.11.0)\n",
      "Requirement already satisfied: python-dateutil>=2.7 in /Users/denissapegin/miniconda3/lib/python3.10/site-packages (from matplotlib==3.7.2->-r requirements.txt (line 1)) (2.8.2)\n",
      "Requirement already satisfied: fonttools>=4.22.0 in /Users/denissapegin/miniconda3/lib/python3.10/site-packages (from matplotlib==3.7.2->-r requirements.txt (line 1)) (4.39.4)\n",
      "Requirement already satisfied: filelock in /Users/denissapegin/miniconda3/lib/python3.10/site-packages (from torch==2.0.1->-r requirements.txt (line 5)) (3.12.1)\n",
      "Requirement already satisfied: sympy in /Users/denissapegin/miniconda3/lib/python3.10/site-packages (from torch==2.0.1->-r requirements.txt (line 5)) (1.12)\n",
      "Requirement already satisfied: typing-extensions in /Users/denissapegin/miniconda3/lib/python3.10/site-packages (from torch==2.0.1->-r requirements.txt (line 5)) (4.6.3)\n",
      "Requirement already satisfied: jinja2 in /Users/denissapegin/miniconda3/lib/python3.10/site-packages (from torch==2.0.1->-r requirements.txt (line 5)) (3.1.2)\n",
      "Requirement already satisfied: scipy>=1.8 in /Users/denissapegin/miniconda3/lib/python3.10/site-packages (from networkx[default]->-r requirements.txt (line 2)) (1.10.1)\n",
      "Requirement already satisfied: pandas>=1.3 in /Users/denissapegin/miniconda3/lib/python3.10/site-packages (from networkx[default]->-r requirements.txt (line 2)) (2.0.2)\n",
      "Requirement already satisfied: tzdata>=2022.1 in /Users/denissapegin/miniconda3/lib/python3.10/site-packages (from pandas>=1.3->networkx[default]->-r requirements.txt (line 2)) (2023.3)\n",
      "Requirement already satisfied: pytz>=2020.1 in /Users/denissapegin/miniconda3/lib/python3.10/site-packages (from pandas>=1.3->networkx[default]->-r requirements.txt (line 2)) (2023.3)\n",
      "Requirement already satisfied: six>=1.5 in /Users/denissapegin/miniconda3/lib/python3.10/site-packages (from python-dateutil>=2.7->matplotlib==3.7.2->-r requirements.txt (line 1)) (1.16.0)\n",
      "Requirement already satisfied: MarkupSafe>=2.0 in /Users/denissapegin/miniconda3/lib/python3.10/site-packages (from jinja2->torch==2.0.1->-r requirements.txt (line 5)) (2.1.3)\n",
      "Requirement already satisfied: mpmath>=0.19 in /Users/denissapegin/miniconda3/lib/python3.10/site-packages (from sympy->torch==2.0.1->-r requirements.txt (line 5)) (1.3.0)\n"
     ]
    }
   ],
   "source": [
    "!pip install -r requirements.txt"
   ]
  },
  {
   "cell_type": "code",
   "execution_count": 5,
   "id": "a9fa7dd6-ed47-4d2f-8b5d-19bc4547c1b4",
   "metadata": {},
   "outputs": [],
   "source": [
    "\"\"\"\n",
    "Evaluation configuration\n",
    "\"\"\"\n",
    "MODEL = \"STRUCTURE SEER\" # STRUCTURE SEER or TRANSFORMER\n",
    "EVALUATION_DATASET = \"example_datasets/demo_compounds_qm9.sdf\"\n",
    "ENCODER_WEIGHTS = \"weights/structure_seer/qm9/qm9_structure_seer_encoder.weights\"\n",
    "DECODER_WEIGHTS = \"weights/structure_seer/qm9/qm9_structure_seer_decoder.weights\"\n"
   ]
  },
  {
   "cell_type": "code",
   "execution_count": 6,
   "id": "1b241336-e034-4719-b676-f671bc43abe8",
   "metadata": {},
   "outputs": [
    {
     "name": "stdout",
     "output_type": "stream",
     "text": [
      "Creating Dataset...\n",
      "Sorting structures...\n"
     ]
    },
    {
     "name": "stderr",
     "output_type": "stream",
     "text": [
      "100%|█████████████████████████████████████████████████████████████████████████████████████████████████████████████████████████████████| 3073/3073 [00:02<00:00, 1311.24it/s]\n"
     ]
    },
    {
     "name": "stdout",
     "output_type": "stream",
     "text": [
      "Evaluating...\n"
     ]
    },
    {
     "name": "stderr",
     "output_type": "stream",
     "text": [
      "100%|███████████████████████████████████████████████████████████████████████████████████████████████████████████████████████████████████████| 97/97 [00:07<00:00, 12.20it/s]"
     ]
    },
    {
     "name": "stdout",
     "output_type": "stream",
     "text": [
      "Wrong Bonds (positions only):\n",
      "\tAverage: 18.59 %\n",
      "\tDistribution:\n",
      "\t{'> 1': 1, '1 - 0.9': 0, '0.9 - 0.8': 1, '0.8 - 0.7': 2, '0.7 - 0.6': 25, '0.6 - 0.5': 70, '0.5 - 0.4': 135, '0.4 - 0.3': 343, '0.3 - 0.2': 894, '0.2 - 0.1': 1207, '< 0.1': 395}\n",
      "\n",
      "Wrong Bonds:\n",
      "\tAverage: 18.62 %\n",
      "\tDistribution:\n",
      "\t{'> 1': 1, '1 - 0.9': 0, '0.9 - 0.8': 2, '0.8 - 0.7': 1, '0.7 - 0.6': 26, '0.6 - 0.5': 70, '0.5 - 0.4': 134, '0.4 - 0.3': 344, '0.3 - 0.2': 894, '0.2 - 0.1': 1207, '< 0.1': 394}\n",
      "\n",
      "Heatmap Similarity (PSNR)\n",
      "\tAverage: 30.724 dB\n",
      "\tDistribution:\n",
      "\t{'< 20': 0, '20 - 25': 4, '25 - 30': 1253, '30 - 35': 1661, '35 - 40': 145, '40 - 45': 8, '45 - 50': 2, '> 50': 0}\n",
      "\n",
      "Excess Bonds\n",
      "\tAverage: 4.93 %\n"
     ]
    },
    {
     "name": "stderr",
     "output_type": "stream",
     "text": [
      "\n"
     ]
    }
   ],
   "source": [
    "import torch\n",
    "from models import GCNEncoder, TEncoder, Decoder\n",
    "from utils import MolecularDataset\n",
    "from model_evaluation import evaluate_model\n",
    "\n",
    "if MODEL == \"STRUCTURE SEER\":\n",
    "    encoder = GCNEncoder()\n",
    "elif MODEL == \"TRANSFORMER\":\n",
    "    encoder = TEncoder()\n",
    "else:\n",
    "    raise ValueError(\"The type of the model is not supported.\")\n",
    "    \n",
    "decoder = Decoder()\n",
    "\n",
    "encoder.load_state_dict(\n",
    "    torch.load(\n",
    "        ENCODER_WEIGHTS,\n",
    "        map_location=\"cpu\",\n",
    "    )\n",
    ")\n",
    "decoder.load_state_dict(\n",
    "    torch.load(\n",
    "        DECODER_WEIGHTS,\n",
    "        map_location=\"cpu\",\n",
    "    )\n",
    ")\n",
    "\n",
    "evaluation_dataset = MolecularDataset(EVALUATION_DATASET)\n",
    "evaluation_loader = torch.utils.data.DataLoader(\n",
    "    evaluation_dataset,\n",
    "    batch_size=32,\n",
    "    shuffle=False,\n",
    ")\n",
    "\n",
    "evaluate_model(encoder, decoder, evaluation_loader)\n"
   ]
  }
 ],
 "metadata": {
  "kernelspec": {
   "display_name": "Python 3 (ipykernel)",
   "language": "python",
   "name": "python3"
  },
  "language_info": {
   "codemirror_mode": {
    "name": "ipython",
    "version": 3
   },
   "file_extension": ".py",
   "mimetype": "text/x-python",
   "name": "python",
   "nbconvert_exporter": "python",
   "pygments_lexer": "ipython3",
   "version": "3.10.10"
  }
 },
 "nbformat": 4,
 "nbformat_minor": 5
}
