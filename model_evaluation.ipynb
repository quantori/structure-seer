{
 "cells": [
  {
   "cell_type": "markdown",
   "id": "8c8b023f-ee5b-4667-a8b8-9d48ca6f64d4",
   "metadata": {},
   "source": [
    "#### Model evaluation"
   ]
  },
  {
   "cell_type": "code",
   "execution_count": null,
   "id": "a96f77e0-0a62-4381-a435-ba83131d77e9",
   "metadata": {},
   "outputs": [],
   "source": [
    "!pip install -r requirements.txt"
   ]
  },
  {
   "cell_type": "code",
   "execution_count": 1,
   "id": "a9fa7dd6-ed47-4d2f-8b5d-19bc4547c1b4",
   "metadata": {},
   "outputs": [],
   "source": [
    "\"\"\"\n",
    "Evaluation configuration\n",
    "\"\"\"\n",
    "MODEL = \"STRUCTURE SEER\" # STRUCTURE SEER or TRANSFORMER\n",
    "EVALUATION_DATASET = \"example_datasets/demo_compounds_qm9.sdf\"\n",
    "ENCODER_WEIGHTS = \"weights/structure_seer/qm9/qm9_structure_seer_encoder.weights\"\n",
    "DECODER_WEIGHTS = \"weights/structure_seer/qm9/qm9_structure_seer_decoder.weights\"\n"
   ]
  },
  {
   "cell_type": "code",
   "execution_count": null,
   "id": "1b241336-e034-4719-b676-f671bc43abe8",
   "metadata": {},
   "outputs": [],
   "source": [
    "import torch\n",
    "from models import GCNEncoder, TEncoder, Decoder\n",
    "from utils import MolecularDataset\n",
    "from model_evaluation import evaluate_model\n",
    "\n",
    "if MODEL == \"STRUCTURE SEER\":\n",
    "    encoder = GCNEncoder()\n",
    "elif MODEL == \"TRANSFORMER\":\n",
    "    encoder = TEncoder()\n",
    "else:\n",
    "    raise ValueError(\"The type of the model is not supported.\")\n",
    "    \n",
    "decoder = Decoder()\n",
    "\n",
    "encoder.load_state_dict(\n",
    "    torch.load(\n",
    "        ENCODER_WEIGHTS,\n",
    "        map_location=\"cpu\",\n",
    "    )\n",
    ")\n",
    "decoder.load_state_dict(\n",
    "    torch.load(\n",
    "        DECODER_WEIGHTS,\n",
    "        map_location=\"cpu\",\n",
    "    )\n",
    ")\n",
    "\n",
    "evaluation_dataset = MolecularDataset(EVALUATION_DATASET)\n",
    "evaluation_loader = torch.utils.data.DataLoader(\n",
    "    evaluation_dataset,\n",
    "    batch_size=32,\n",
    "    shuffle=False,\n",
    ")\n",
    "\n",
    "evaluate_model(encoder, decoder, evaluation_loader)\n"
   ]
  },
  {
   "cell_type": "code",
   "execution_count": null,
   "id": "d4461c10-208a-4c03-a659-f3981f93a737",
   "metadata": {},
   "outputs": [],
   "source": []
  }
 ],
 "metadata": {
  "kernelspec": {
   "display_name": "Python 3 (ipykernel)",
   "language": "python",
   "name": "python3"
  },
  "language_info": {
   "codemirror_mode": {
    "name": "ipython",
    "version": 3
   },
   "file_extension": ".py",
   "mimetype": "text/x-python",
   "name": "python",
   "nbconvert_exporter": "python",
   "pygments_lexer": "ipython3",
   "version": "3.10.10"
  }
 },
 "nbformat": 4,
 "nbformat_minor": 5
}
